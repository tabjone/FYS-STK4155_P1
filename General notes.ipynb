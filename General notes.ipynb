{
 "cells": [
  {
   "cell_type": "markdown",
   "metadata": {},
   "source": [
    "Predictors er $p$ i pxn design matrix. For polynomials er dette linear factors.\n",
    "\n",
    "En polynomial design matrix kalles en Vandermonde matrix."
   ]
  },
  {
   "cell_type": "markdown",
   "metadata": {},
   "source": [
    "$$\\boldsymbol{\\hat{\\beta}}=\\hat\\beta \\pm\\Delta \\hat\\beta $$\n",
    "\n",
    "når man driver med bootstrap eller noe"
   ]
  },
  {
   "cell_type": "markdown",
   "metadata": {},
   "source": [
    "OLS: Add i theory eller method om R^2 score function og MSE.\n",
    "\n",
    "Ridge og Lasso: Mulig å vite mean og variance? "
   ]
  },
  {
   "cell_type": "markdown",
   "metadata": {},
   "source": [
    "SAY IN THEORY THAT: design matrix can be model with x,y so we get cross terms ect in matrix, like in Franke, eller i method.\n",
    "\n",
    "Expectation value, MSE and Variance (error noe eller evaluation)\n",
    "\n",
    "Notes: predictors er $p$ i pxn design matrix. Altsa linear factors i polynomials\n",
    "\n",
    "\n",
    "A cost function is an important parameter that determines how well a machine learning model performs for a given dataset. It calculates the difference between the expected value and predicted value and represents it as a single real number.\n",
    "\n",
    "Remember that hat beta = +- delta hat beta, delta hat beta = sqrt var beta"
   ]
  },
  {
   "cell_type": "code",
   "execution_count": null,
   "metadata": {},
   "outputs": [],
   "source": []
  }
 ],
 "metadata": {
  "kernelspec": {
   "display_name": "Python 3",
   "language": "python",
   "name": "python3"
  },
  "language_info": {
   "codemirror_mode": {
    "name": "ipython",
    "version": 3
   },
   "file_extension": ".py",
   "mimetype": "text/x-python",
   "name": "python",
   "nbconvert_exporter": "python",
   "pygments_lexer": "ipython3",
   "version": "3.7.1"
  }
 },
 "nbformat": 4,
 "nbformat_minor": 4
}
